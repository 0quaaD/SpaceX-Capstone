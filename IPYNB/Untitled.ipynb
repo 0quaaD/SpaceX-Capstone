{
 "cells": [
  {
   "cell_type": "code",
   "execution_count": 2,
   "id": "716774f0-cfbd-4403-8d12-54539b87bafe",
   "metadata": {},
   "outputs": [
    {
     "name": "stdout",
     "output_type": "stream",
     "text": [
      "Requirement already satisfied: pandas in /home/elnokin/Desktop/FOLDER/envs/env1/lib/python3.12/site-packages (2.3.2)\n",
      "Collecting dash\n",
      "  Downloading dash-3.2.0-py3-none-any.whl.metadata (10 kB)\n",
      "Requirement already satisfied: numpy>=1.26.0 in /home/elnokin/Desktop/FOLDER/envs/env1/lib/python3.12/site-packages (from pandas) (2.3.2)\n",
      "Requirement already satisfied: python-dateutil>=2.8.2 in /home/elnokin/Desktop/FOLDER/envs/env1/lib/python3.12/site-packages (from pandas) (2.9.0.post0)\n",
      "Requirement already satisfied: pytz>=2020.1 in /home/elnokin/Desktop/FOLDER/envs/env1/lib/python3.12/site-packages (from pandas) (2025.2)\n",
      "Requirement already satisfied: tzdata>=2022.7 in /home/elnokin/Desktop/FOLDER/envs/env1/lib/python3.12/site-packages (from pandas) (2025.2)\n",
      "Collecting Flask<3.2,>=1.0.4 (from dash)\n",
      "  Downloading flask-3.1.2-py3-none-any.whl.metadata (3.2 kB)\n",
      "Collecting Werkzeug<3.2 (from dash)\n",
      "  Downloading werkzeug-3.1.3-py3-none-any.whl.metadata (3.7 kB)\n",
      "Requirement already satisfied: plotly>=5.0.0 in /home/elnokin/Desktop/FOLDER/envs/env1/lib/python3.12/site-packages (from dash) (6.3.0)\n",
      "Requirement already satisfied: importlib-metadata in /home/elnokin/Desktop/FOLDER/envs/env1/lib/python3.12/site-packages (from dash) (8.7.0)\n",
      "Requirement already satisfied: typing-extensions>=4.1.1 in /home/elnokin/Desktop/FOLDER/envs/env1/lib/python3.12/site-packages (from dash) (4.15.0)\n",
      "Requirement already satisfied: requests in /home/elnokin/Desktop/FOLDER/envs/env1/lib/python3.12/site-packages (from dash) (2.32.5)\n",
      "Collecting retrying (from dash)\n",
      "  Downloading retrying-1.4.2-py3-none-any.whl.metadata (5.5 kB)\n",
      "Requirement already satisfied: nest-asyncio in /home/elnokin/Desktop/FOLDER/envs/env1/lib/python3.12/site-packages (from dash) (1.6.0)\n",
      "Requirement already satisfied: setuptools in /home/elnokin/Desktop/FOLDER/envs/env1/lib/python3.12/site-packages (from dash) (80.9.0)\n",
      "Requirement already satisfied: blinker>=1.9.0 in /home/elnokin/Desktop/FOLDER/envs/env1/lib/python3.12/site-packages (from Flask<3.2,>=1.0.4->dash) (1.9.0)\n",
      "Requirement already satisfied: click>=8.1.3 in /home/elnokin/Desktop/FOLDER/envs/env1/lib/python3.12/site-packages (from Flask<3.2,>=1.0.4->dash) (8.2.1)\n",
      "Collecting itsdangerous>=2.2.0 (from Flask<3.2,>=1.0.4->dash)\n",
      "  Downloading itsdangerous-2.2.0-py3-none-any.whl.metadata (1.9 kB)\n",
      "Requirement already satisfied: jinja2>=3.1.2 in /home/elnokin/Desktop/FOLDER/envs/env1/lib/python3.12/site-packages (from Flask<3.2,>=1.0.4->dash) (3.1.6)\n",
      "Requirement already satisfied: markupsafe>=2.1.1 in /home/elnokin/Desktop/FOLDER/envs/env1/lib/python3.12/site-packages (from Flask<3.2,>=1.0.4->dash) (3.0.2)\n",
      "Requirement already satisfied: narwhals>=1.15.1 in /home/elnokin/Desktop/FOLDER/envs/env1/lib/python3.12/site-packages (from plotly>=5.0.0->dash) (2.2.0)\n",
      "Requirement already satisfied: packaging in /home/elnokin/Desktop/FOLDER/envs/env1/lib/python3.12/site-packages (from plotly>=5.0.0->dash) (25.0)\n",
      "Requirement already satisfied: six>=1.5 in /home/elnokin/Desktop/FOLDER/envs/env1/lib/python3.12/site-packages (from python-dateutil>=2.8.2->pandas) (1.17.0)\n",
      "Requirement already satisfied: zipp>=3.20 in /home/elnokin/Desktop/FOLDER/envs/env1/lib/python3.12/site-packages (from importlib-metadata->dash) (3.23.0)\n",
      "Requirement already satisfied: charset_normalizer<4,>=2 in /home/elnokin/Desktop/FOLDER/envs/env1/lib/python3.12/site-packages (from requests->dash) (3.4.3)\n",
      "Requirement already satisfied: idna<4,>=2.5 in /home/elnokin/Desktop/FOLDER/envs/env1/lib/python3.12/site-packages (from requests->dash) (3.10)\n",
      "Requirement already satisfied: urllib3<3,>=1.21.1 in /home/elnokin/Desktop/FOLDER/envs/env1/lib/python3.12/site-packages (from requests->dash) (2.5.0)\n",
      "Requirement already satisfied: certifi>=2017.4.17 in /home/elnokin/Desktop/FOLDER/envs/env1/lib/python3.12/site-packages (from requests->dash) (2025.8.3)\n",
      "Downloading dash-3.2.0-py3-none-any.whl (7.9 MB)\n",
      "\u001b[2K   \u001b[38;2;114;156;31m━━━━━━━━━━━━━━━━━━━━━━━━━━━━━━━━━━━━━━━━\u001b[0m \u001b[32m7.9/7.9 MB\u001b[0m \u001b[31m4.6 MB/s\u001b[0m eta \u001b[36m0:00:00\u001b[0mm eta \u001b[36m0:00:01\u001b[0m[36m0:00:01\u001b[0m\n",
      "\u001b[?25hDownloading flask-3.1.2-py3-none-any.whl (103 kB)\n",
      "\u001b[2K   \u001b[38;2;114;156;31m━━━━━━━━━━━━━━━━━━━━━━━━━━━━━━━━━━━━━━━\u001b[0m \u001b[32m103.3/103.3 kB\u001b[0m \u001b[31m952.4 kB/s\u001b[0m eta \u001b[36m0:00:00\u001b[0m1m5.2 MB/s\u001b[0m eta \u001b[36m0:00:01\u001b[0m\n",
      "\u001b[?25hDownloading werkzeug-3.1.3-py3-none-any.whl (224 kB)\n",
      "\u001b[2K   \u001b[38;2;114;156;31m━━━━━━━━━━━━━━━━━━━━━━━━━━━━━━━━━━━━━━━━\u001b[0m \u001b[32m224.5/224.5 kB\u001b[0m \u001b[31m1.9 MB/s\u001b[0m eta \u001b[36m0:00:00\u001b[0m MB/s\u001b[0m eta \u001b[36m0:00:01\u001b[0m\n",
      "\u001b[?25hDownloading retrying-1.4.2-py3-none-any.whl (10 kB)\n",
      "Downloading itsdangerous-2.2.0-py3-none-any.whl (16 kB)\n",
      "Installing collected packages: Werkzeug, retrying, itsdangerous, Flask, dash\n",
      "Successfully installed Flask-3.1.2 Werkzeug-3.1.3 dash-3.2.0 itsdangerous-2.2.0 retrying-1.4.2\n",
      "Note: you may need to restart the kernel to use updated packages.\n"
     ]
    }
   ],
   "source": [
    "%pip install pandas dash"
   ]
  },
  {
   "cell_type": "code",
   "execution_count": null,
   "id": "48c5efd6-18a5-4ed5-9613-0727232e7da0",
   "metadata": {},
   "outputs": [],
   "source": []
  }
 ],
 "metadata": {
  "kernelspec": {
   "display_name": "Python 3 (ipykernel)",
   "language": "python",
   "name": "python3"
  },
  "language_info": {
   "codemirror_mode": {
    "name": "ipython",
    "version": 3
   },
   "file_extension": ".py",
   "mimetype": "text/x-python",
   "name": "python",
   "nbconvert_exporter": "python",
   "pygments_lexer": "ipython3",
   "version": "3.12.3"
  }
 },
 "nbformat": 4,
 "nbformat_minor": 5
}
